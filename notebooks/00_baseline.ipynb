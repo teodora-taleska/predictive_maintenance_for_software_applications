{
 "cells": [
  {
   "cell_type": "code",
   "execution_count": 1,
   "metadata": {
    "collapsed": true
   },
   "outputs": [
    {
     "name": "stdout",
     "output_type": "stream",
     "text": [
      "Number of outliers:  14\n"
     ]
    },
    {
     "name": "stderr",
     "output_type": "stream",
     "text": [
      "C:\\Users\\Tea\\AppData\\Local\\Programs\\Python\\Python310\\lib\\site-packages\\sklearn\\base.py:439: UserWarning: X does not have valid feature names, but IsolationForest was fitted with feature names\n",
      "  warnings.warn(\n"
     ]
    }
   ],
   "source": [
    "import sys\n",
    "sys.path.append('../scripts')\n",
    "from scripts.baseline_model import BaselineModel\n",
    "from scripts.cross_validation import loocv, k_fold_cv\n",
    "from scripts.data_preprocessing import load_data, exclude_outliers\n",
    "\n",
    "# Load and preprocess data\n",
    "X, y = load_data()\n",
    "\n",
    "# Exclude outliers\n",
    "X_filtered, y_filtered = exclude_outliers(X, y)"
   ]
  },
  {
   "cell_type": "code",
   "execution_count": 2,
   "outputs": [
    {
     "name": "stdout",
     "output_type": "stream",
     "text": [
      "LOOCV\n",
      "R squared (LOOCV): -19880.00000000001\n",
      "Average MSE (LOOCV): 121.51040816326532\n",
      "Average RMSE (LOOCV): 11.02317595628707\n",
      "Average MAE (LOOCV): 6.131306990881457\n",
      "\n",
      "10-fold\n",
      "Mean MSE: 120.99759061082646\n",
      "Mean MAE: 6.170581377486928\n",
      "Mean R2: -0.170182556803025\n",
      "RMSE 10.999890481765101\n"
     ]
    }
   ],
   "source": [
    "# Initialize and fit the baseline model\n",
    "baseline_model = BaselineModel()\n",
    "\n",
    "# Outliers included\n",
    "print('LOOCV')\n",
    "loocv(X, y, baseline_model)\n",
    "\n",
    "print('\\n10-fold')\n",
    "k_fold_cv(X, y, baseline_model, 6)"
   ],
   "metadata": {
    "collapsed": false
   }
  },
  {
   "cell_type": "code",
   "execution_count": 3,
   "outputs": [
    {
     "name": "stdout",
     "output_type": "stream",
     "text": [
      "LOOCV\n",
      "R squared (LOOCV): -16127.999999999975\n",
      "Average MSE (LOOCV): 42.182791635172606\n",
      "Average RMSE (LOOCV): 6.494828068176448\n",
      "Average MAE (LOOCV): 4.5876765404324455\n",
      "\n",
      "10-fold\n",
      "Mean MSE: 43.91820570063971\n",
      "Mean MAE: 4.701502899616107\n",
      "Mean R2: -0.3989598003419221\n",
      "RMSE 6.627081235403691\n"
     ]
    }
   ],
   "source": [
    "# Outliers excluded\n",
    "print('LOOCV')\n",
    "loocv(X_filtered, y_filtered, baseline_model)\n",
    "\n",
    "print('\\n10-fold')\n",
    "k_fold_cv(X_filtered, y_filtered, baseline_model, 6)"
   ],
   "metadata": {
    "collapsed": false
   }
  }
 ],
 "metadata": {
  "kernelspec": {
   "display_name": "Python 3",
   "language": "python",
   "name": "python3"
  },
  "language_info": {
   "codemirror_mode": {
    "name": "ipython",
    "version": 2
   },
   "file_extension": ".py",
   "mimetype": "text/x-python",
   "name": "python",
   "nbconvert_exporter": "python",
   "pygments_lexer": "ipython2",
   "version": "2.7.6"
  }
 },
 "nbformat": 4,
 "nbformat_minor": 0
}
