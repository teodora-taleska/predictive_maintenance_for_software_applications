{
 "cells": [
  {
   "cell_type": "code",
   "execution_count": 1,
   "metadata": {
    "collapsed": true
   },
   "outputs": [
    {
     "name": "stdout",
     "output_type": "stream",
     "text": [
      "Number of outliers:  14\n"
     ]
    },
    {
     "name": "stderr",
     "output_type": "stream",
     "text": [
      "C:\\Users\\Tea\\AppData\\Local\\Programs\\Python\\Python310\\lib\\site-packages\\sklearn\\base.py:439: UserWarning: X does not have valid feature names, but IsolationForest was fitted with feature names\n",
      "  warnings.warn(\n"
     ]
    }
   ],
   "source": [
    "import sys\n",
    "sys.path.append('../scripts')\n",
    "from sklearn.linear_model import LinearRegression\n",
    "from scripts.cross_validation import loocv, k_fold_cv\n",
    "from scripts.data_preprocessing import load_data, exclude_outliers\n",
    "\n",
    "# Load and preprocess data\n",
    "X, y = load_data()\n",
    "\n",
    "# Exclude outliers\n",
    "X_filtered, y_filtered = exclude_outliers(X, y)\n"
   ]
  },
  {
   "cell_type": "code",
   "execution_count": 2,
   "outputs": [
    {
     "name": "stdout",
     "output_type": "stream",
     "text": [
      "LOOCV\n",
      "R squared (LOOCV): 0.32666455917012815\n",
      "Average MSE (LOOCV): 1027.723704287641\n",
      "Average RMSE (LOOCV): 32.058130080958264\n",
      "Average MAE (LOOCV): 10.371121196513501\n",
      "\n",
      "10-fold\n",
      "Mean MSE: 1018.4741552570334\n",
      "Mean MAE: 14.826209344932346\n",
      "Mean R2: -9.963652400163333\n",
      "RMSE 31.913541878911428\n"
     ]
    }
   ],
   "source": [
    "linear_regression = LinearRegression()\n",
    "\n",
    "print('LOOCV')\n",
    "loocv(X, y, linear_regression)\n",
    "\n",
    "print('\\n10-fold')\n",
    "k_fold_cv(X, y, linear_regression, 6)"
   ],
   "metadata": {
    "collapsed": false
   }
  },
  {
   "cell_type": "code",
   "execution_count": 3,
   "outputs": [
    {
     "name": "stdout",
     "output_type": "stream",
     "text": [
      "LOOCV\n",
      "R squared (LOOCV): -0.05855735958487607\n",
      "Average MSE (LOOCV): 137.31306757245721\n",
      "Average RMSE (LOOCV): 11.718065863121662\n",
      "Average MAE (LOOCV): 7.49776663901326\n",
      "\n",
      "10-fold\n",
      "Mean MSE: 383.96268265920236\n",
      "Mean MAE: 13.683290529429895\n",
      "Mean R2: -17.703809186378596\n",
      "RMSE 19.594965747844583\n"
     ]
    }
   ],
   "source": [
    "print('LOOCV')\n",
    "loocv(X_filtered, y_filtered, linear_regression)\n",
    "\n",
    "print('\\n10-fold')\n",
    "k_fold_cv(X_filtered, y_filtered, linear_regression, 6)"
   ],
   "metadata": {
    "collapsed": false
   }
  }
 ],
 "metadata": {
  "kernelspec": {
   "display_name": "Python 3",
   "language": "python",
   "name": "python3"
  },
  "language_info": {
   "codemirror_mode": {
    "name": "ipython",
    "version": 2
   },
   "file_extension": ".py",
   "mimetype": "text/x-python",
   "name": "python",
   "nbconvert_exporter": "python",
   "pygments_lexer": "ipython2",
   "version": "2.7.6"
  }
 },
 "nbformat": 4,
 "nbformat_minor": 0
}
