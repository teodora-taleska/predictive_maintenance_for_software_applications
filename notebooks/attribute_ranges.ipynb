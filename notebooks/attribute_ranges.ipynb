{
 "cells": [
  {
   "cell_type": "code",
   "execution_count": 1,
   "metadata": {
    "collapsed": true
   },
   "outputs": [
    {
     "data": {
      "text/plain": "{'PERCENT_PUB_DATA': [0.0, 100.0],\n 'ACCESS_TO_PUB_DATA': [0.0, 0.0],\n 'COUPLING_BETWEEN_OBJECTS': [0.0, 24.0],\n 'DEPTH': [1.0, 7.0],\n 'LACK_OF_COHESION_OF_METHODS': [0.0, 100.0],\n 'NUM_OF_CHILDREN': [0.0, 5.0],\n 'DEP_ON_CHILD': [0.0, 1.0],\n 'FAN_IN': [0.0, 3.0],\n 'RESPONSE_FOR_CLASS': [0.0, 222.0],\n 'WEIGHTED_METHODS_PER_CLASS': [0.0, 100.0],\n 'minLOC_BLANK': [0.0, 0.0],\n 'minBRANCH_COUNT': [1.0, 1.0],\n 'minLOC_CODE_AND_COMMENT': [0.0, 0.0],\n 'minLOC_COMMENTS': [0.0, 0.0],\n 'minCYCLOMATIC_COMPLEXITY': [1.0, 1.0],\n 'minDESIGN_COMPLEXITY': [1.0, 1.0],\n 'minESSENTIAL_COMPLEXITY': [1.0, 1.0],\n 'minLOC_EXECUTABLE': [0.0, 4.0],\n 'minHALSTEAD_CONTENT': [0.0, 13.21],\n 'minHALSTEAD_DIFFICULTY': [0.0, 2.5],\n 'minHALSTEAD_EFFORT': [0.0, 76.08],\n 'minHALSTEAD_ERROR_EST': [0.0, 0.01],\n 'minHALSTEAD_LENGTH': [0.0, 10.0],\n 'minHALSTEAD_LEVEL': [0.0, 0.67],\n 'minHALSTEAD_PROG_TIME': [0.0, 4.23],\n 'minHALSTEAD_VOLUME': [0.0, 31.7],\n 'minNUM_OPERANDS': [0.0, 6.0],\n 'minNUM_OPERATORS': [0.0, 6.0],\n 'minNUM_UNIQUE_OPERANDS': [0.0, 5.0],\n 'minNUM_UNIQUE_OPERATORS': [0.0, 5.0],\n 'minLOC_TOTAL': [1.0, 10.0],\n 'maxLOC_BLANK': [0.0, 58.0],\n 'maxBRANCH_COUNT': [1.0, 89.0],\n 'maxLOC_CODE_AND_COMMENT': [0.0, 12.0],\n 'maxLOC_COMMENTS': [0.0, 44.0],\n 'maxCYCLOMATIC_COMPLEXITY': [1.0, 45.0],\n 'maxDESIGN_COMPLEXITY': [1.0, 45.0],\n 'maxESSENTIAL_COMPLEXITY': [1.0, 26.0],\n 'maxLOC_EXECUTABLE': [0.0, 262.0],\n 'maxHALSTEAD_CONTENT': [0.0, 193.06],\n 'maxHALSTEAD_DIFFICULTY': [0.0, 53.75],\n 'maxHALSTEAD_EFFORT': [0.0, 324803.51],\n 'maxHALSTEAD_ERROR_EST': [0.0, 2.64],\n 'maxHALSTEAD_LENGTH': [0.0, 1106.0],\n 'maxHALSTEAD_LEVEL': [0.0, 2.0],\n 'maxHALSTEAD_PROG_TIME': [0.0, 18044.64],\n 'maxHALSTEAD_VOLUME': [0.0, 7918.82],\n 'maxNUM_OPERANDS': [0.0, 428.0],\n 'maxNUM_OPERATORS': [0.0, 678.0],\n 'maxNUM_UNIQUE_OPERANDS': [0.0, 120.0],\n 'maxNUM_UNIQUE_OPERATORS': [0.0, 37.0],\n 'maxLOC_TOTAL': [1.0, 288.0],\n 'avgLOC_BLANK': [0.0, 13.105263],\n 'avgBRANCH_COUNT': [1.0, 21.166667],\n 'avgLOC_CODE_AND_COMMENT': [0.0, 1.916667],\n 'avgLOC_COMMENTS': [0.0, 11.545455],\n 'avgCYCLOMATIC_COMPLEXITY': [1.0, 11.083333],\n 'avgDESIGN_COMPLEXITY': [1.0, 8.583333],\n 'avgESSENTIAL_COMPLEXITY': [1.0, 7.583333],\n 'avgLOC_EXECUTABLE': [0.0, 61.0],\n 'avgHALSTEAD_CONTENT': [0.0, 56.528636],\n 'avgHALSTEAD_DIFFICULTY': [0.0, 19.181667],\n 'avgHALSTEAD_EFFORT': [0.0, 32843.281667],\n 'avgHALSTEAD_ERROR_EST': [0.0, 0.3775],\n 'avgHALSTEAD_LENGTH': [0.0, 187.833333],\n 'avgHALSTEAD_LEVEL': [0.0, 0.938333],\n 'avgHALSTEAD_PROG_TIME': [0.0, 1824.6275],\n 'avgHALSTEAD_VOLUME': [0.0, 1128.075],\n 'avgNUM_OPERANDS': [0.0, 72.5],\n 'avgNUM_OPERATORS': [0.0, 115.333333],\n 'avgNUM_UNIQUE_OPERANDS': [0.0, 32.772727],\n 'avgNUM_UNIQUE_OPERATORS': [0.0, 16.083333],\n 'avgLOC_TOTAL': [1.0, 79.818182],\n 'sumLOC_BLANK': [0.0, 510.0],\n 'sumBRANCH_COUNT': [1.0, 1046.0],\n 'sumLOC_CODE_AND_COMMENT': [0.0, 57.0],\n 'sumLOC_COMMENTS': [0.0, 254.0],\n 'sumCYCLOMATIC_COMPLEXITY': [1.0, 572.0],\n 'sumDESIGN_COMPLEXITY': [1.0, 409.0],\n 'sumESSENTIAL_COMPLEXITY': [1.0, 345.0],\n 'sumLOC_EXECUTABLE': [0.0, 2313.0],\n 'sumHALSTEAD_CONTENT': [0.0, 2865.06],\n 'sumHALSTEAD_DIFFICULTY': [0.0, 1590.28],\n 'sumHALSTEAD_EFFORT': [0.0, 1973866.93],\n 'sumHALSTEAD_ERROR_EST': [0.0, 21.02],\n 'sumHALSTEAD_LENGTH': [0.0, 11172.0],\n 'sumHALSTEAD_LEVEL': [0.0, 32.51],\n 'sumHALSTEAD_PROG_TIME': [0.0, 109659.3],\n 'sumHALSTEAD_VOLUME': [0.0, 63240.96],\n 'sumNUM_OPERANDS': [0.0, 4439.0],\n 'sumNUM_OPERATORS': [0.0, 6733.0],\n 'sumNUM_UNIQUE_OPERANDS': [0.0, 1820.0],\n 'sumNUM_UNIQUE_OPERATORS': [0.0, 1383.0],\n 'sumLOC_TOTAL': [1.0, 2883.0],\n 'NUMDEFECTS': [0.0, 101.0]}"
     },
     "execution_count": 1,
     "metadata": {},
     "output_type": "execute_result"
    }
   ],
   "source": [
    "# Read the ARFF file content to get the ranges\n",
    "with open('../data/kc1-class-level-numericdefect.arff', 'r') as file:\n",
    "    arff_content = file.readlines()\n",
    "\n",
    "# Extract the attributes and their data\n",
    "attribute_lines = [line for line in arff_content if line.startswith('@attribute')]\n",
    "data_lines = [line for line in arff_content if not line.startswith(('@', '%', '\\n'))]\n",
    "\n",
    "# Initialize a dictionary to hold attribute ranges\n",
    "attribute_ranges = {line.split()[1]: [float('inf'), float('-inf')] for line in attribute_lines}\n",
    "\n",
    "# Update the ranges based on the data\n",
    "for line in data_lines:\n",
    "    values = line.strip().split(',')\n",
    "    for i, value in enumerate(values):\n",
    "        attribute_name = list(attribute_ranges.keys())[i]\n",
    "        value = float(value)\n",
    "        if value < attribute_ranges[attribute_name][0]:\n",
    "            attribute_ranges[attribute_name][0] = value\n",
    "        if value > attribute_ranges[attribute_name][1]:\n",
    "            attribute_ranges[attribute_name][1] = value\n",
    "\n",
    "attribute_ranges"
   ]
  }
 ],
 "metadata": {
  "kernelspec": {
   "display_name": "Python 3",
   "language": "python",
   "name": "python3"
  },
  "language_info": {
   "codemirror_mode": {
    "name": "ipython",
    "version": 2
   },
   "file_extension": ".py",
   "mimetype": "text/x-python",
   "name": "python",
   "nbconvert_exporter": "python",
   "pygments_lexer": "ipython2",
   "version": "2.7.6"
  }
 },
 "nbformat": 4,
 "nbformat_minor": 0
}
