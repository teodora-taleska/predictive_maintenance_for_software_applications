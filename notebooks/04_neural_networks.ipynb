{
 "cells": [
  {
   "cell_type": "code",
   "execution_count": 4,
   "metadata": {
    "collapsed": true
   },
   "outputs": [
    {
     "name": "stdout",
     "output_type": "stream",
     "text": [
      "Number of outliers:  14\n"
     ]
    },
    {
     "name": "stderr",
     "output_type": "stream",
     "text": [
      "C:\\Users\\Tea\\AppData\\Local\\Programs\\Python\\Python310\\lib\\site-packages\\sklearn\\base.py:439: UserWarning: X does not have valid feature names, but IsolationForest was fitted with feature names\n",
      "  warnings.warn(\n"
     ]
    }
   ],
   "source": [
    "import sys\n",
    "sys.path.append('../scripts')\n",
    "from scripts.cross_validation import loocv, k_fold_cv\n",
    "from sklearn.neural_network import MLPRegressor\n",
    "from scripts.data_preprocessing import load_data, exclude_outliers, scale_data\n",
    "\n",
    "# Load and preprocess data\n",
    "X, y = load_data()\n",
    "\n",
    "# Exclude outliers\n",
    "X_filtered, y_filtered = exclude_outliers(X, y)\n",
    "\n",
    "hidden_layer_configs = [(300,), (500,), (200, 100), (300, 200, 100),]\n",
    "X_scaled = scale_data(X)\n",
    "X_filtered_scaled = scale_data(X_filtered)"
   ]
  },
  {
   "cell_type": "code",
   "execution_count": 7,
   "outputs": [
    {
     "name": "stdout",
     "output_type": "stream",
     "text": [
      "LOOCV NN with hidden layer sizes:  (300,)\n",
      "Average R^2 (LOOCV): nan\n",
      "Average MSE (LOOCV): 82.39439676292677\n",
      "Average RMSE (LOOCV): 9.077135933923584\n",
      "Average MAE (LOOCV): 5.60426211142147\n",
      "LOOCV NN with hidden layer sizes:  (500,)\n",
      "Average R^2 (LOOCV): nan\n",
      "Average MSE (LOOCV): 84.16933146121946\n",
      "Average RMSE (LOOCV): 9.174384527651949\n",
      "Average MAE (LOOCV): 5.616671944191613\n",
      "LOOCV NN with hidden layer sizes:  (200, 100)\n",
      "Average R^2 (LOOCV): nan\n",
      "Average MSE (LOOCV): 77.93132778320734\n",
      "Average RMSE (LOOCV): 8.827872211535878\n",
      "Average MAE (LOOCV): 5.185991726252854\n",
      "LOOCV NN with hidden layer sizes:  (300, 200, 100)\n",
      "Average R^2 (LOOCV): nan\n",
      "Average MSE (LOOCV): 78.20797335986734\n",
      "Average RMSE (LOOCV): 8.84352720128498\n",
      "Average MAE (LOOCV): 4.564431642037036\n"
     ]
    }
   ],
   "source": [
    "\n",
    "for size in hidden_layer_configs:\n",
    "    mlp_regressor = MLPRegressor(\n",
    "        hidden_layer_sizes=size,\n",
    "        activation='relu',\n",
    "        solver='adam',\n",
    "        alpha=0.0003,\n",
    "        max_iter=1500,\n",
    "        random_state=42,\n",
    "    )\n",
    "\n",
    "    print('LOOCV NN with hidden layer sizes: ', size )\n",
    "    loocv(X_scaled, y, mlp_regressor)\n"
   ],
   "metadata": {
    "collapsed": false
   }
  },
  {
   "cell_type": "code",
   "execution_count": 5,
   "outputs": [
    {
     "name": "stdout",
     "output_type": "stream",
     "text": [
      "K-fold CV NN with hidden layer sizes:  (300,)\n",
      "Mean MSE: 82.38624542469519\n",
      "Mean MAE: 5.763641003061141\n",
      "Mean R2: -0.5640963241873763\n",
      "RMSE 9.076686918953149\n",
      "K-fold CV NN with hidden layer sizes:  (500,)\n",
      "Mean MSE: 82.59901668557947\n",
      "Mean MAE: 5.759625374076106\n",
      "Mean R2: -0.6120676111034357\n",
      "RMSE 9.088400116939145\n",
      "K-fold CV NN with hidden layer sizes:  (200, 100)\n",
      "Mean MSE: 77.28701782508293\n",
      "Mean MAE: 5.145073907897891\n",
      "Mean R2: -0.2890207144258071\n",
      "RMSE 8.791303533895467\n",
      "K-fold CV NN with hidden layer sizes:  (300, 200, 100)\n",
      "Mean MSE: 89.81923419372322\n",
      "Mean MAE: 4.765295406962751\n",
      "Mean R2: -0.3938432811295276\n",
      "RMSE 9.477300997315808\n"
     ]
    }
   ],
   "source": [
    "for size in hidden_layer_configs:\n",
    "    mlp_regressor = MLPRegressor(\n",
    "        hidden_layer_sizes=size,\n",
    "        activation='relu',\n",
    "        solver='adam',\n",
    "        alpha=0.0003,\n",
    "        max_iter=1500,\n",
    "        random_state=42,\n",
    "    )\n",
    "\n",
    "    print('K-fold CV NN with hidden layer sizes: ', size )\n",
    "    k_fold_cv(X_scaled, y, mlp_regressor, 6)"
   ],
   "metadata": {
    "collapsed": false
   }
  },
  {
   "cell_type": "code",
   "execution_count": 8,
   "outputs": [
    {
     "name": "stdout",
     "output_type": "stream",
     "text": [
      "LOOCV NN with hidden layer sizes:  (300,)\n",
      "Average R^2 (LOOCV): nan\n",
      "Average MSE (LOOCV): 55216.508037817046\n",
      "Average RMSE (LOOCV): 234.9819313007216\n",
      "Average MAE (LOOCV): 100.28530880391254\n",
      "LOOCV NN with hidden layer sizes:  (500,)\n",
      "Average R^2 (LOOCV): nan\n",
      "Average MSE (LOOCV): 104199.94183285286\n",
      "Average RMSE (LOOCV): 322.8001577336245\n",
      "Average MAE (LOOCV): 39.86729222245137\n",
      "LOOCV NN with hidden layer sizes:  (200, 100)\n"
     ]
    },
    {
     "name": "stderr",
     "output_type": "stream",
     "text": [
      "C:\\Users\\Tea\\AppData\\Local\\Programs\\Python\\Python310\\lib\\site-packages\\sklearn\\neural_network\\_multilayer_perceptron.py:686: ConvergenceWarning: Stochastic Optimizer: Maximum iterations (1500) reached and the optimization hasn't converged yet.\n",
      "  warnings.warn(\n"
     ]
    },
    {
     "name": "stdout",
     "output_type": "stream",
     "text": [
      "Average R^2 (LOOCV): nan\n",
      "Average MSE (LOOCV): 1364382.8343506993\n",
      "Average RMSE (LOOCV): 1168.0679921779808\n",
      "Average MAE (LOOCV): 626.9481770333531\n",
      "LOOCV NN with hidden layer sizes:  (300, 200, 100)\n",
      "Average R^2 (LOOCV): nan\n",
      "Average MSE (LOOCV): 89474.83279150848\n",
      "Average RMSE (LOOCV): 299.1234407255782\n",
      "Average MAE (LOOCV): 117.36697450606339\n"
     ]
    }
   ],
   "source": [
    "# Outliers excluded\n",
    "\n",
    "for size in hidden_layer_configs:\n",
    "    mlp_regressor = MLPRegressor(\n",
    "        hidden_layer_sizes=size,\n",
    "        activation='relu',\n",
    "        solver='adam',\n",
    "        alpha=0.0003,\n",
    "        max_iter=1500,\n",
    "        random_state=42,\n",
    "    )\n",
    "\n",
    "    print('LOOCV NN with hidden layer sizes: ', size )\n",
    "    loocv(X_filtered, y_filtered, mlp_regressor)"
   ],
   "metadata": {
    "collapsed": false
   }
  },
  {
   "cell_type": "code",
   "execution_count": 6,
   "outputs": [
    {
     "name": "stdout",
     "output_type": "stream",
     "text": [
      "K-fold CV NN with hidden layer sizes:  (300,)\n",
      "Mean MSE: 39.75664411064711\n",
      "Mean MAE: 4.314904979722894\n",
      "Mean R2: -0.6400220105340756\n",
      "RMSE 6.305286996691516\n",
      "K-fold CV NN with hidden layer sizes:  (500,)\n",
      "Mean MSE: 38.400136131606125\n",
      "Mean MAE: 4.2377568140960244\n",
      "Mean R2: -0.41834310103755196\n",
      "RMSE 6.19678433799387\n",
      "K-fold CV NN with hidden layer sizes:  (200, 100)\n",
      "Mean MSE: 31.808361333412105\n",
      "Mean MAE: 3.727002448945551\n",
      "Mean R2: -0.21791946097344764\n",
      "RMSE 5.639890188063249\n",
      "K-fold CV NN with hidden layer sizes:  (300, 200, 100)\n",
      "Mean MSE: 31.542123532595976\n",
      "Mean MAE: 3.3927971717391645\n",
      "Mean R2: -0.25423026752038597\n",
      "RMSE 5.616237488977472\n"
     ]
    }
   ],
   "source": [
    "for size in hidden_layer_configs:\n",
    "    mlp_regressor = MLPRegressor(\n",
    "        hidden_layer_sizes=size,\n",
    "        activation='relu',\n",
    "        solver='adam',\n",
    "        alpha=0.0003,\n",
    "        max_iter=1500,\n",
    "        random_state=42,\n",
    "    )\n",
    "\n",
    "    print('K-fold CV NN with hidden layer sizes: ', size )\n",
    "    k_fold_cv(X_filtered_scaled, y_filtered, mlp_regressor, 6)\n"
   ],
   "metadata": {
    "collapsed": false
   }
  }
 ],
 "metadata": {
  "kernelspec": {
   "display_name": "Python 3",
   "language": "python",
   "name": "python3"
  },
  "language_info": {
   "codemirror_mode": {
    "name": "ipython",
    "version": 2
   },
   "file_extension": ".py",
   "mimetype": "text/x-python",
   "name": "python",
   "nbconvert_exporter": "python",
   "pygments_lexer": "ipython2",
   "version": "2.7.6"
  }
 },
 "nbformat": 4,
 "nbformat_minor": 0
}
