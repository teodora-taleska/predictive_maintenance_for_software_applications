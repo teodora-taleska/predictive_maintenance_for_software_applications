{
 "cells": [
  {
   "cell_type": "code",
   "execution_count": 1,
   "metadata": {
    "collapsed": true
   },
   "outputs": [
    {
     "name": "stdout",
     "output_type": "stream",
     "text": [
      "Number of outliers:  14\n"
     ]
    },
    {
     "name": "stderr",
     "output_type": "stream",
     "text": [
      "C:\\Users\\Tea\\AppData\\Local\\Programs\\Python\\Python310\\lib\\site-packages\\sklearn\\base.py:439: UserWarning: X does not have valid feature names, but IsolationForest was fitted with feature names\n",
      "  warnings.warn(\n"
     ]
    }
   ],
   "source": [
    "import sys\n",
    "sys.path.append('../scripts')\n",
    "from scripts.cross_validation import loocv, k_fold_cv\n",
    "from scripts.data_preprocessing import load_data, exclude_outliers\n",
    "from sklearn.ensemble import RandomForestRegressor\n",
    "\n",
    "# Load and preprocess data\n",
    "X, y = load_data()\n",
    "\n",
    "# Exclude outliers\n",
    "X_filtered, y_filtered = exclude_outliers(X, y)\n",
    "\n",
    "rf = RandomForestRegressor()"
   ]
  },
  {
   "cell_type": "code",
   "execution_count": 2,
   "outputs": [
    {
     "name": "stdout",
     "output_type": "stream",
     "text": [
      "LOOCV\n",
      "R squared (LOOCV): -1.77194194867121\n",
      "Average MSE (LOOCV): 94.46452340425532\n",
      "Average RMSE (LOOCV): 9.719286157133935\n",
      "Average MAE (LOOCV): 4.474326241134753\n",
      "\n",
      "10-fold\n",
      "Mean MSE: 98.19982880434783\n",
      "Mean MAE: 5.092542270531401\n",
      "Mean R2: 0.06768648458699243\n",
      "RMSE 9.909582675589716\n"
     ]
    }
   ],
   "source": [
    "print('LOOCV')\n",
    "loocv(X, y, rf)\n",
    "\n",
    "print('\\n10-fold')\n",
    "k_fold_cv(X, y, rf, 6)"
   ],
   "metadata": {
    "collapsed": false
   }
  },
  {
   "cell_type": "code",
   "execution_count": 3,
   "outputs": [
    {
     "name": "stdout",
     "output_type": "stream",
     "text": [
      "LOOCV\n",
      "R squared (LOOCV): -1.0194321125491226\n",
      "Average MSE (LOOCV): 31.168020472440947\n",
      "Average RMSE (LOOCV): 5.582832656675368\n",
      "Average MAE (LOOCV): 3.5582677165354335\n",
      "\n",
      "10-fold\n",
      "Mean MSE: 39.504634740259746\n",
      "Mean MAE: 4.050284992784993\n",
      "Mean R2: -0.8549372806574076\n",
      "RMSE 6.28527125431033\n"
     ]
    }
   ],
   "source": [
    "print('LOOCV')\n",
    "loocv(X_filtered, y_filtered, rf)\n",
    "\n",
    "print('\\n10-fold')\n",
    "k_fold_cv(X_filtered, y_filtered, rf, 6)"
   ],
   "metadata": {
    "collapsed": false
   }
  }
 ],
 "metadata": {
  "kernelspec": {
   "display_name": "Python 3",
   "language": "python",
   "name": "python3"
  },
  "language_info": {
   "codemirror_mode": {
    "name": "ipython",
    "version": 2
   },
   "file_extension": ".py",
   "mimetype": "text/x-python",
   "name": "python",
   "nbconvert_exporter": "python",
   "pygments_lexer": "ipython2",
   "version": "2.7.6"
  }
 },
 "nbformat": 4,
 "nbformat_minor": 0
}
