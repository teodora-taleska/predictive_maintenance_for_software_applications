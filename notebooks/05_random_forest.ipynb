{
 "cells": [
  {
   "cell_type": "code",
   "execution_count": 4,
   "metadata": {
    "collapsed": true
   },
   "outputs": [
    {
     "name": "stdout",
     "output_type": "stream",
     "text": [
      "Number of outliers:  14\n"
     ]
    },
    {
     "name": "stderr",
     "output_type": "stream",
     "text": [
      "C:\\Users\\Tea\\AppData\\Local\\Programs\\Python\\Python310\\lib\\site-packages\\sklearn\\base.py:439: UserWarning: X does not have valid feature names, but IsolationForest was fitted with feature names\n",
      "  warnings.warn(\n"
     ]
    }
   ],
   "source": [
    "import sys\n",
    "sys.path.append('../scripts')\n",
    "from scripts.cross_validation import loocv, k_fold_cv\n",
    "from scripts.data_preprocessing import load_data, exclude_outliers\n",
    "from sklearn.ensemble import RandomForestRegressor\n",
    "\n",
    "# Load and preprocess data\n",
    "X, y = load_data()\n",
    "\n",
    "# Exclude outliers\n",
    "X_filtered, y_filtered = exclude_outliers(X, y)\n",
    "\n",
    "rf = RandomForestRegressor()"
   ]
  },
  {
   "cell_type": "code",
   "execution_count": 3,
   "outputs": [
    {
     "name": "stdout",
     "output_type": "stream",
     "text": [
      "Average R^2 (LOOCV): nan\n",
      "Average MSE (LOOCV): 93.63877021276595\n",
      "Average RMSE (LOOCV): 9.676712779284397\n",
      "Average MAE (LOOCV): 4.540141843971631\n",
      "\n",
      "10-fold\n",
      "Mean MSE: 106.77928073671497\n",
      "Mean MAE: 5.365000000000001\n",
      "Mean R2: -0.04624366379461966\n",
      "RMSE 10.333406056896969\n",
      "LOOCV\n"
     ]
    }
   ],
   "source": [
    "print('LOOCV')\n",
    "loocv(X, y, rf)\n",
    "\n",
    "print('\\n10-fold')\n",
    "k_fold_cv(X, y, rf, 6)"
   ],
   "metadata": {
    "collapsed": false
   }
  },
  {
   "cell_type": "code",
   "execution_count": null,
   "outputs": [],
   "source": [
    "print('LOOCV')\n",
    "loocv(X_filtered, y_filtered, rf)\n",
    "\n",
    "print('\\n10-fold')\n",
    "k_fold_cv(X_filtered, y_filtered, rf, 6)"
   ],
   "metadata": {
    "collapsed": false,
    "pycharm": {
     "is_executing": true
    }
   }
  }
 ],
 "metadata": {
  "kernelspec": {
   "display_name": "Python 3",
   "language": "python",
   "name": "python3"
  },
  "language_info": {
   "codemirror_mode": {
    "name": "ipython",
    "version": 2
   },
   "file_extension": ".py",
   "mimetype": "text/x-python",
   "name": "python",
   "nbconvert_exporter": "python",
   "pygments_lexer": "ipython2",
   "version": "2.7.6"
  }
 },
 "nbformat": 4,
 "nbformat_minor": 0
}
