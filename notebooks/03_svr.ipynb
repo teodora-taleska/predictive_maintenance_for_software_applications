{
 "cells": [
  {
   "cell_type": "code",
   "execution_count": 1,
   "metadata": {
    "collapsed": true
   },
   "outputs": [
    {
     "name": "stdout",
     "output_type": "stream",
     "text": [
      "Number of outliers:  14\n"
     ]
    },
    {
     "name": "stderr",
     "output_type": "stream",
     "text": [
      "C:\\Users\\Tea\\AppData\\Local\\Programs\\Python\\Python310\\lib\\site-packages\\sklearn\\base.py:439: UserWarning: X does not have valid feature names, but IsolationForest was fitted with feature names\n",
      "  warnings.warn(\n"
     ]
    }
   ],
   "source": [
    "import sys\n",
    "sys.path.append('../scripts')\n",
    "from scripts.cross_validation import loocv, k_fold_cv\n",
    "from scripts.data_preprocessing import load_data, exclude_outliers\n",
    "from sklearn.svm import SVR\n",
    "\n",
    "# Load and preprocess data\n",
    "X, y = load_data()\n",
    "\n",
    "# Exclude outliers\n",
    "X_filtered, y_filtered = exclude_outliers(X, y)\n",
    "\n",
    "svr = SVR()"
   ]
  },
  {
   "cell_type": "code",
   "execution_count": 2,
   "outputs": [
    {
     "name": "stdout",
     "output_type": "stream",
     "text": [
      "LOOCV\n",
      "R squared (LOOCV): -35.64415845194332\n",
      "Average MSE (LOOCV): 119.64069626501676\n",
      "Average RMSE (LOOCV): 10.93803895883612\n",
      "Average MAE (LOOCV): 4.293398388018479\n",
      "\n",
      "10-fold\n",
      "Mean MSE: 120.68071796562481\n",
      "Mean MAE: 4.40443849233821\n",
      "Mean R2: -0.08828780875171198\n",
      "RMSE 10.985477593879331\n"
     ]
    }
   ],
   "source": [
    "print('LOOCV')\n",
    "loocv(X, y, svr)\n",
    "\n",
    "print('\\n10-fold')\n",
    "k_fold_cv(X, y, svr, 6)"
   ],
   "metadata": {
    "collapsed": false
   }
  },
  {
   "cell_type": "code",
   "execution_count": 3,
   "outputs": [
    {
     "name": "stdout",
     "output_type": "stream",
     "text": [
      "LOOCV\n",
      "R squared (LOOCV): -18.694552412366185\n",
      "Average MSE (LOOCV): 42.079784899302474\n",
      "Average RMSE (LOOCV): 6.48689331647303\n",
      "Average MAE (LOOCV): 3.2573344326861\n",
      "\n",
      "10-fold\n",
      "Mean MSE: 42.87587539212697\n",
      "Mean MAE: 3.3704343700568806\n",
      "Mean R2: -0.08953873409908103\n",
      "RMSE 6.547967271766634\n"
     ]
    }
   ],
   "source": [
    "print('LOOCV')\n",
    "loocv(X_filtered, y_filtered, svr)\n",
    "\n",
    "print('\\n10-fold')\n",
    "k_fold_cv(X_filtered, y_filtered, svr, 6)"
   ],
   "metadata": {
    "collapsed": false
   }
  }
 ],
 "metadata": {
  "kernelspec": {
   "display_name": "Python 3",
   "language": "python",
   "name": "python3"
  },
  "language_info": {
   "codemirror_mode": {
    "name": "ipython",
    "version": 2
   },
   "file_extension": ".py",
   "mimetype": "text/x-python",
   "name": "python",
   "nbconvert_exporter": "python",
   "pygments_lexer": "ipython2",
   "version": "2.7.6"
  }
 },
 "nbformat": 4,
 "nbformat_minor": 0
}
