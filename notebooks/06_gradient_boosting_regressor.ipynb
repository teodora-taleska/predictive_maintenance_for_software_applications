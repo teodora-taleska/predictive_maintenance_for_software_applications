{
 "cells": [
  {
   "cell_type": "code",
   "execution_count": 1,
   "metadata": {
    "collapsed": true
   },
   "outputs": [
    {
     "name": "stdout",
     "output_type": "stream",
     "text": [
      "Number of outliers:  14\n"
     ]
    },
    {
     "name": "stderr",
     "output_type": "stream",
     "text": [
      "C:\\Users\\Tea\\AppData\\Local\\Programs\\Python\\Python310\\lib\\site-packages\\sklearn\\base.py:439: UserWarning: X does not have valid feature names, but IsolationForest was fitted with feature names\n",
      "  warnings.warn(\n"
     ]
    }
   ],
   "source": [
    "import sys\n",
    "sys.path.append('../scripts')\n",
    "from scripts.cross_validation import loocv, k_fold_cv\n",
    "from sklearn import ensemble\n",
    "from scripts.data_preprocessing import load_data, exclude_outliers\n",
    "\n",
    "\n",
    "# Load and preprocess data\n",
    "X, y = load_data()\n",
    "\n",
    "# Exclude outliers\n",
    "X_filtered, y_filtered = exclude_outliers(X, y)"
   ]
  },
  {
   "cell_type": "code",
   "execution_count": null,
   "outputs": [],
   "source": [
    "# Define the parameter grid for Grid Search\n",
    "# param_grid = {\n",
    "#     \"n_estimators\": [100, 200, 500],\n",
    "#     \"max_depth\": [3, 6, 9],\n",
    "#     \"max_leaf_nodes\": [2, 6],\n",
    "#     \"learning_rate\": [0.001, 0.01, 0.1, 1],\n",
    "# }\n",
    "\n",
    "params = {\n",
    "    \"n_estimators\": 500,\n",
    "    \"max_depth\": 4,\n",
    "    \"min_samples_split\": 5,\n",
    "    \"learning_rate\": 0.01,\n",
    "    \"loss\": \"squared_error\",\n",
    "}\n",
    "\n",
    "# Initialize the model\n",
    "gboost = ensemble.GradientBoostingRegressor(**params)\n",
    "\n",
    "# Evaluate with LOOCV and k-fold\n",
    "print('LOOCV')\n",
    "loocv(X, y, gboost)\n",
    "\n",
    "print('\\n10-fold')\n",
    "k_fold_cv(X, y, gboost, 6)"
   ],
   "metadata": {
    "collapsed": false,
    "pycharm": {
     "is_executing": true
    }
   }
  },
  {
   "cell_type": "code",
   "execution_count": 4,
   "outputs": [
    {
     "name": "stdout",
     "output_type": "stream",
     "text": [
      "LOOCV\n",
      "Average R^2 (LOOCV): nan\n",
      "Average MSE (LOOCV): 36.1990337711179\n",
      "Average RMSE (LOOCV): 3.679334123244461\n",
      "Average MAE (LOOCV): 3.679334123244461\n",
      "\n",
      "10-fold\n",
      "Mean MSE: 43.649035461957\n",
      "Mean MAE: 4.064879123544626\n",
      "Mean R2: -0.5966198686068954\n",
      "RMSE 6.60674166756632\n"
     ]
    }
   ],
   "source": [
    "print('LOOCV')\n",
    "loocv(X_filtered, y_filtered, gboost)\n",
    "\n",
    "print('\\n10-fold')\n",
    "k_fold_cv(X_filtered, y_filtered, gboost, 6)"
   ],
   "metadata": {
    "collapsed": false
   }
  }
 ],
 "metadata": {
  "kernelspec": {
   "display_name": "Python 3",
   "language": "python",
   "name": "python3"
  },
  "language_info": {
   "codemirror_mode": {
    "name": "ipython",
    "version": 2
   },
   "file_extension": ".py",
   "mimetype": "text/x-python",
   "name": "python",
   "nbconvert_exporter": "python",
   "pygments_lexer": "ipython2",
   "version": "2.7.6"
  }
 },
 "nbformat": 4,
 "nbformat_minor": 0
}
