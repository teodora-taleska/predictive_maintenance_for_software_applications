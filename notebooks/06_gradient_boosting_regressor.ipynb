{
 "cells": [
  {
   "cell_type": "code",
   "execution_count": 2,
   "metadata": {
    "collapsed": true
   },
   "outputs": [
    {
     "name": "stdout",
     "output_type": "stream",
     "text": [
      "Number of outliers:  14\n"
     ]
    },
    {
     "name": "stderr",
     "output_type": "stream",
     "text": [
      "C:\\Users\\Tea\\AppData\\Local\\Programs\\Python\\Python310\\lib\\site-packages\\sklearn\\base.py:439: UserWarning: X does not have valid feature names, but IsolationForest was fitted with feature names\n",
      "  warnings.warn(\n"
     ]
    }
   ],
   "source": [
    "import sys\n",
    "sys.path.append('../scripts')\n",
    "from scripts.cross_validation import loocv, k_fold_cv\n",
    "from sklearn import ensemble\n",
    "from sklearn.model_selection import GridSearchCV\n",
    "from scripts.data_preprocessing import load_data, exclude_outliers\n",
    "\n",
    "\n",
    "# Load and preprocess data\n",
    "X, y = load_data()\n",
    "\n",
    "# Exclude outliers\n",
    "X_filtered, y_filtered = exclude_outliers(X, y)"
   ]
  },
  {
   "cell_type": "code",
   "execution_count": 5,
   "outputs": [
    {
     "name": "stdout",
     "output_type": "stream",
     "text": [
      "Best parameters found:  {'learning_rate': 0.01, 'loss': 'squared_error', 'max_depth': 3, 'min_samples_split': 5, 'n_estimators': 100}\n",
      "LOOCV\n",
      "Average R^2 (LOOCV): nan\n",
      "Average MSE (LOOCV): 102.51863630390584\n",
      "Average RMSE (LOOCV): 10.125148705273707\n",
      "Average MAE (LOOCV): 5.027608188021575\n",
      "\n",
      "10-fold\n",
      "Mean MSE: 109.51601208334044\n",
      "Mean MAE: 5.69637206465038\n",
      "Mean R2: -0.27912060015233303\n",
      "RMSE 10.46498982719718\n"
     ]
    }
   ],
   "source": [
    "# Define the parameter grid for Grid Search\n",
    "param_grid = {\n",
    "    \"n_estimators\": [100, 200, 500],\n",
    "    \"max_depth\": [3, 4, 5],\n",
    "    \"min_samples_split\": [2, 5, 10],\n",
    "    \"learning_rate\": [0.01, 0.05, 0.1],\n",
    "    \"loss\": [\"squared_error\"]\n",
    "}\n",
    "\n",
    "# Initialize the model\n",
    "reg = ensemble.GradientBoostingRegressor()\n",
    "\n",
    "# Perform Grid Search with Cross-Validation\n",
    "grid_search = GridSearchCV(reg, param_grid, cv=6, scoring='neg_mean_squared_error')\n",
    "grid_search.fit(X, y)\n",
    "\n",
    "# Best parameters from Grid Search\n",
    "best_params = grid_search.best_params_\n",
    "print(\"Best parameters found: \", best_params)\n",
    "\n",
    "# Train the model with the best parameters\n",
    "best_reg = grid_search.best_estimator_\n",
    "\n",
    "# Evaluate with LOOCV and k-fold\n",
    "print('LOOCV')\n",
    "loocv(X, y, best_reg)\n",
    "\n",
    "print('\\n10-fold')\n",
    "k_fold_cv(X, y, best_reg, 6)"
   ],
   "metadata": {
    "collapsed": false
   }
  },
  {
   "cell_type": "code",
   "execution_count": 6,
   "outputs": [
    {
     "name": "stdout",
     "output_type": "stream",
     "text": [
      "LOOCV\n",
      "Average R^2 (LOOCV): nan\n",
      "Average MSE (LOOCV): 35.115479465788056\n",
      "Average RMSE (LOOCV): 5.9258315421371925\n",
      "Average MAE (LOOCV): 4.044039064343017\n",
      "\n",
      "10-fold\n",
      "Mean MSE: 39.36248499084931\n",
      "Mean MAE: 4.2790288697795855\n",
      "Mean R2: -0.38081029192488874\n",
      "RMSE 6.2739528999546454\n"
     ]
    }
   ],
   "source": [
    "print('LOOCV')\n",
    "loocv(X_filtered, y_filtered, best_reg)\n",
    "\n",
    "print('\\n10-fold')\n",
    "k_fold_cv(X_filtered, y_filtered, best_reg, 6)"
   ],
   "metadata": {
    "collapsed": false
   }
  }
 ],
 "metadata": {
  "kernelspec": {
   "display_name": "Python 3",
   "language": "python",
   "name": "python3"
  },
  "language_info": {
   "codemirror_mode": {
    "name": "ipython",
    "version": 2
   },
   "file_extension": ".py",
   "mimetype": "text/x-python",
   "name": "python",
   "nbconvert_exporter": "python",
   "pygments_lexer": "ipython2",
   "version": "2.7.6"
  }
 },
 "nbformat": 4,
 "nbformat_minor": 0
}
