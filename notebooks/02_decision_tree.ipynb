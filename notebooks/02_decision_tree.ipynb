{
 "cells": [
  {
   "cell_type": "code",
   "execution_count": 1,
   "metadata": {
    "collapsed": true
   },
   "outputs": [
    {
     "name": "stdout",
     "output_type": "stream",
     "text": [
      "Number of outliers:  14\n"
     ]
    },
    {
     "name": "stderr",
     "output_type": "stream",
     "text": [
      "C:\\Users\\Tea\\AppData\\Local\\Programs\\Python\\Python310\\lib\\site-packages\\sklearn\\base.py:439: UserWarning: X does not have valid feature names, but IsolationForest was fitted with feature names\n",
      "  warnings.warn(\n"
     ]
    }
   ],
   "source": [
    "import sys\n",
    "sys.path.append('../scripts')\n",
    "from sklearn.tree import DecisionTreeRegressor\n",
    "from scripts.cross_validation import loocv, k_fold_cv\n",
    "from scripts.data_preprocessing import load_data, exclude_outliers\n",
    "\n",
    "# Load and preprocess data\n",
    "X, y = load_data()\n",
    "\n",
    "# Exclude outliers\n",
    "X_filtered, y_filtered = exclude_outliers(X, y)\n",
    "\n",
    "decision_tree = DecisionTreeRegressor()"
   ]
  },
  {
   "cell_type": "code",
   "execution_count": 2,
   "outputs": [
    {
     "name": "stdout",
     "output_type": "stream",
     "text": [
      "LOOCV\n",
      "R squared (LOOCV): -0.375153518572511\n",
      "Average MSE (LOOCV): 245.78014184397162\n",
      "Average RMSE (LOOCV): 15.67737675263217\n",
      "Average MAE (LOOCV): 6.475177304964539\n",
      "\n",
      "10-fold\n",
      "Mean MSE: 126.71859903381642\n",
      "Mean MAE: 5.382850241545893\n",
      "Mean R2: -0.4179955933701837\n",
      "RMSE 11.256935596947173\n"
     ]
    }
   ],
   "source": [
    "print('LOOCV')\n",
    "loocv(X, y, decision_tree)\n",
    "\n",
    "print('\\n10-fold')\n",
    "k_fold_cv(X, y, decision_tree, 6)"
   ],
   "metadata": {
    "collapsed": false
   }
  },
  {
   "cell_type": "code",
   "execution_count": 3,
   "outputs": [
    {
     "name": "stdout",
     "output_type": "stream",
     "text": [
      "LOOCV\n",
      "R squared (LOOCV): -0.6532611392856591\n",
      "Average MSE (LOOCV): 52.874015748031496\n",
      "Average RMSE (LOOCV): 7.271452107250071\n",
      "Average MAE (LOOCV): 4.275590551181103\n",
      "\n",
      "10-fold\n",
      "Mean MSE: 82.40620490620492\n",
      "Mean MAE: 5.271284271284272\n",
      "Mean R2: -2.3233254225818984\n",
      "RMSE 9.077786343938973\n"
     ]
    }
   ],
   "source": [
    "print('LOOCV')\n",
    "loocv(X_filtered, y_filtered, decision_tree)\n",
    "\n",
    "print('\\n10-fold')\n",
    "k_fold_cv(X_filtered, y_filtered, decision_tree, 6)"
   ],
   "metadata": {
    "collapsed": false
   }
  }
 ],
 "metadata": {
  "kernelspec": {
   "display_name": "Python 3",
   "language": "python",
   "name": "python3"
  },
  "language_info": {
   "codemirror_mode": {
    "name": "ipython",
    "version": 2
   },
   "file_extension": ".py",
   "mimetype": "text/x-python",
   "name": "python",
   "nbconvert_exporter": "python",
   "pygments_lexer": "ipython2",
   "version": "2.7.6"
  }
 },
 "nbformat": 4,
 "nbformat_minor": 0
}
