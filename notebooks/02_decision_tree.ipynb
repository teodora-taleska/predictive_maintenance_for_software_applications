{
 "cells": [
  {
   "cell_type": "code",
   "execution_count": 1,
   "metadata": {
    "collapsed": true
   },
   "outputs": [
    {
     "name": "stdout",
     "output_type": "stream",
     "text": [
      "Number of outliers:  14\n"
     ]
    },
    {
     "name": "stderr",
     "output_type": "stream",
     "text": [
      "C:\\Users\\Tea\\AppData\\Local\\Programs\\Python\\Python310\\lib\\site-packages\\sklearn\\base.py:439: UserWarning: X does not have valid feature names, but IsolationForest was fitted with feature names\n",
      "  warnings.warn(\n"
     ]
    }
   ],
   "source": [
    "import sys\n",
    "sys.path.append('../scripts')\n",
    "from sklearn.tree import DecisionTreeRegressor\n",
    "from scripts.cross_validation import loocv, k_fold_cv\n",
    "from scripts.data_preprocessing import load_data, exclude_outliers\n",
    "\n",
    "# Load and preprocess data\n",
    "X, y = load_data()\n",
    "\n",
    "# Exclude outliers\n",
    "X_filtered, y_filtered = exclude_outliers(X, y)\n",
    "\n",
    "decision_tree = DecisionTreeRegressor()"
   ]
  },
  {
   "cell_type": "code",
   "execution_count": 5,
   "outputs": [
    {
     "name": "stdout",
     "output_type": "stream",
     "text": [
      "LOOCV\n",
      "Average R^2 (LOOCV): nan\n",
      "Average MSE (LOOCV): 104.0709219858156\n",
      "Average RMSE (LOOCV): 10.201515671007696\n",
      "Average MAE (LOOCV): 5.347517730496454\n",
      "\n",
      "10-fold\n",
      "Mean MSE: 124.03200483091787\n",
      "Mean MAE: 5.407004830917875\n",
      "Mean R2: -0.4868494644997578\n",
      "RMSE 11.136965692275338\n"
     ]
    }
   ],
   "source": [
    "print('LOOCV')\n",
    "loocv(X, y, decision_tree)\n",
    "\n",
    "print('\\n10-fold')\n",
    "k_fold_cv(X, y, decision_tree, 6)"
   ],
   "metadata": {
    "collapsed": false
   }
  },
  {
   "cell_type": "code",
   "execution_count": 3,
   "outputs": [
    {
     "name": "stdout",
     "output_type": "stream",
     "text": [
      "LOOCV\n",
      "Average R^2 (LOOCV): nan\n",
      "Average MSE (LOOCV): 131.18439716312056\n",
      "Average RMSE (LOOCV): 11.453575736996747\n",
      "Average MAE (LOOCV): 5.453900709219858\n",
      "\n",
      "10-fold\n",
      "Mean MSE: 122.73913043478262\n",
      "Mean MAE: 5.487922705314009\n",
      "Mean R2: -0.3646945901946628\n",
      "RMSE 11.07876935560907\n"
     ]
    }
   ],
   "source": [
    "print('LOOCV')\n",
    "loocv(X, y, decision_tree)\n",
    "\n",
    "print('\\n10-fold')\n",
    "k_fold_cv(X, y, decision_tree, 6)"
   ],
   "metadata": {
    "collapsed": false
   }
  }
 ],
 "metadata": {
  "kernelspec": {
   "display_name": "Python 3",
   "language": "python",
   "name": "python3"
  },
  "language_info": {
   "codemirror_mode": {
    "name": "ipython",
    "version": 2
   },
   "file_extension": ".py",
   "mimetype": "text/x-python",
   "name": "python",
   "nbconvert_exporter": "python",
   "pygments_lexer": "ipython2",
   "version": "2.7.6"
  }
 },
 "nbformat": 4,
 "nbformat_minor": 0
}
